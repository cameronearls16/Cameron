{
 "cells": [
  {
   "cell_type": "code",
   "execution_count": 1,
   "id": "b48d3b14-b4df-40b6-8ddd-1ea23b4f1997",
   "metadata": {},
   "outputs": [],
   "source": [
    "import numpy as np"
   ]
  },
  {
   "cell_type": "code",
   "execution_count": 2,
   "id": "e8af1f7f-ba86-4db0-a113-ebd9777f1234",
   "metadata": {},
   "outputs": [],
   "source": [
    "list = ([20, 27, 9, 12, 31, 17, 4, 50, 39, 35])"
   ]
  },
  {
   "cell_type": "code",
   "execution_count": 3,
   "id": "544fdbc6-d21f-4f20-a41f-efb3fdd42796",
   "metadata": {},
   "outputs": [],
   "source": [
    "arr = np.array(list)"
   ]
  },
  {
   "cell_type": "code",
   "execution_count": 22,
   "id": "9e0c6784-1575-4e7d-8176-243ce969b73a",
   "metadata": {},
   "outputs": [
    {
     "name": "stdout",
     "output_type": "stream",
     "text": [
      "[ 80 108  36  48 124  68  16 200 156 140]\n",
      "24.4\n",
      "23.5\n",
      "13.828955130450023\n",
      "6\n",
      "7\n",
      "4\n",
      "50\n",
      "4\n",
      "50\n",
      "[27 31 50 39 35]\n"
     ]
    }
   ],
   "source": [
    "print(arr * 4)\n",
    "print(arr.mean())\n",
    "print(np.median(arr))\n",
    "print(arr.std())\n",
    "print(np.argmin(arr))\n",
    "print(np.argmax(arr))\n",
    "print(arr[np.argmin(arr)])\n",
    "print(arr[np.argmax(arr)])\n",
    "print(np.min(arr))\n",
    "print(np.max(arr))\n",
    "print(arr[arr > 20])\n",
    "\n"
   ]
  },
  {
   "cell_type": "code",
   "execution_count": 29,
   "id": "8dad6d1d-7fef-4072-9abe-ff01e9f5107e",
   "metadata": {},
   "outputs": [
    {
     "name": "stdout",
     "output_type": "stream",
     "text": [
      "(3, 4)\n",
      "[17 14 19]\n",
      "[ 8 21 14  3]\n"
     ]
    }
   ],
   "source": [
    "matrix = [\n",
    "    [5, 12, 17, 9],\n",
    "    [8, 21, 14, 3],\n",
    "    [6, 13, 19, 11]\n",
    "]\n",
    "matrix = np.array(matrix)\n",
    "print(matrix.shape)\n",
    "print(matrix[:, 2])\n",
    "print(matrix[1])\n",
    "print(matrix * 2)\n",
    "matrix.mean"
   ]
  },
  {
   "cell_type": "code",
   "execution_count": null,
   "id": "40b3c857-14a5-496c-880c-7fba5cc0644d",
   "metadata": {},
   "outputs": [],
   "source": []
  }
 ],
 "metadata": {
  "kernelspec": {
   "display_name": "Python [conda env:base] *",
   "language": "python",
   "name": "conda-base-py"
  },
  "language_info": {
   "codemirror_mode": {
    "name": "ipython",
    "version": 3
   },
   "file_extension": ".py",
   "mimetype": "text/x-python",
   "name": "python",
   "nbconvert_exporter": "python",
   "pygments_lexer": "ipython3",
   "version": "3.13.5"
  }
 },
 "nbformat": 4,
 "nbformat_minor": 5
}
