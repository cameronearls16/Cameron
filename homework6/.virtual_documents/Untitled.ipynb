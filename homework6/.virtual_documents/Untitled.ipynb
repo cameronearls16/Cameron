import numpy as np


list = ([20, 27, 9, 12, 31, 17, 4, 50, 39, 35])


arr = np.array(list)


print(arr * 4)
print(arr.mean())
print(np.median(arr))
print(arr.std())
print(np.argmin(arr))
print(np.argmax(arr))
print(arr[np.argmin(arr)])
print(arr[np.argmax(arr)])
print(np.min(arr))
print(np.max(arr))
print(arr[arr > 20])




matrix = [
    [5, 12, 17, 9],
    [8, 21, 14, 3],
    [6, 13, 19, 11]
]
matrix = np.array(matrix)
print(matrix.shape)
print(matrix[:, 2])
print(matrix[1])
print(matrix * 2)
matrix.mean



